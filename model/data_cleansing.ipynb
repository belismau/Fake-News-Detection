{
 "cells": [
  {
   "cell_type": "raw",
   "id": "neural-longitude",
   "metadata": {},
   "source": [
    "Removing 'date' and 'title' columns"
   ]
  },
  {
   "cell_type": "code",
   "execution_count": 94,
   "id": "accepting-avenue",
   "metadata": {},
   "outputs": [],
   "source": [
    "data = data.drop(columns=['date', 'title'])"
   ]
  },
  {
   "cell_type": "raw",
   "id": "olive-operator",
   "metadata": {},
   "source": [
    "Making all letters lowercase in text column"
   ]
  },
  {
   "cell_type": "code",
   "execution_count": 91,
   "id": "patient-canada",
   "metadata": {},
   "outputs": [],
   "source": [
    "data['text'] = data['text'].str.lower()"
   ]
  },
  {
   "cell_type": "raw",
   "id": "agreed-magic",
   "metadata": {},
   "source": [
    "Inspecting the data"
   ]
  },
  {
   "cell_type": "code",
   "execution_count": 96,
   "id": "animated-freedom",
   "metadata": {},
   "outputs": [
    {
     "data": {
      "text/html": [
       "<div>\n",
       "<style scoped>\n",
       "    .dataframe tbody tr th:only-of-type {\n",
       "        vertical-align: middle;\n",
       "    }\n",
       "\n",
       "    .dataframe tbody tr th {\n",
       "        vertical-align: top;\n",
       "    }\n",
       "\n",
       "    .dataframe thead th {\n",
       "        text-align: right;\n",
       "    }\n",
       "</style>\n",
       "<table border=\"1\" class=\"dataframe\">\n",
       "  <thead>\n",
       "    <tr style=\"text-align: right;\">\n",
       "      <th></th>\n",
       "      <th>text</th>\n",
       "      <th>subject</th>\n",
       "      <th>label</th>\n",
       "    </tr>\n",
       "  </thead>\n",
       "  <tbody>\n",
       "    <tr>\n",
       "      <th>18588</th>\n",
       "      <td>vienna (reuters) - austria s social democratic...</td>\n",
       "      <td>worldnews</td>\n",
       "      <td>true</td>\n",
       "    </tr>\n",
       "    <tr>\n",
       "      <th>7660</th>\n",
       "      <td>donald trump sat down for an interview with on...</td>\n",
       "      <td>News</td>\n",
       "      <td>fake</td>\n",
       "    </tr>\n",
       "    <tr>\n",
       "      <th>684</th>\n",
       "      <td>washington (reuters) - the lawyer for former u...</td>\n",
       "      <td>politicsNews</td>\n",
       "      <td>true</td>\n",
       "    </tr>\n",
       "    <tr>\n",
       "      <th>7967</th>\n",
       "      <td>(reuters) - the kansas secretary of state and ...</td>\n",
       "      <td>politicsNews</td>\n",
       "      <td>true</td>\n",
       "    </tr>\n",
       "    <tr>\n",
       "      <th>8888</th>\n",
       "      <td>sacramento, calif. - there is no guarantee cal...</td>\n",
       "      <td>politicsNews</td>\n",
       "      <td>true</td>\n",
       "    </tr>\n",
       "  </tbody>\n",
       "</table>\n",
       "</div>"
      ],
      "text/plain": [
       "                                                    text       subject label\n",
       "18588  vienna (reuters) - austria s social democratic...     worldnews  true\n",
       "7660   donald trump sat down for an interview with on...          News  fake\n",
       "684    washington (reuters) - the lawyer for former u...  politicsNews  true\n",
       "7967   (reuters) - the kansas secretary of state and ...  politicsNews  true\n",
       "8888   sacramento, calif. - there is no guarantee cal...  politicsNews  true"
      ]
     },
     "execution_count": 96,
     "metadata": {},
     "output_type": "execute_result"
    }
   ],
   "source": [
    "data.head()"
   ]
  },
  {
   "cell_type": "raw",
   "id": "diverse-burning",
   "metadata": {},
   "source": [
    "Removing punctuation like (,.()- etc.) in text column"
   ]
  },
  {
   "cell_type": "code",
   "execution_count": null,
   "id": "employed-flash",
   "metadata": {},
   "outputs": [],
   "source": [
    "import string\n"
   ]
  }
 ],
 "metadata": {
  "kernelspec": {
   "display_name": "Python 3",
   "language": "python",
   "name": "python3"
  },
  "language_info": {
   "codemirror_mode": {
    "name": "ipython",
    "version": 3
   },
   "file_extension": ".py",
   "mimetype": "text/x-python",
   "name": "python",
   "nbconvert_exporter": "python",
   "pygments_lexer": "ipython3",
   "version": "3.7.1"
  }
 },
 "nbformat": 4,
 "nbformat_minor": 5
}
