{
 "cells": [
  {
   "cell_type": "markdown",
   "id": "passive-punishment",
   "metadata": {},
   "source": [
    "# Data exploration"
   ]
  },
  {
   "cell_type": "markdown",
   "id": "popular-chorus",
   "metadata": {},
   "source": [
    "#### This **.ipynb** file inspects the data"
   ]
  },
  {
   "cell_type": "code",
   "execution_count": 12,
   "id": "architectural-broadcast",
   "metadata": {},
   "outputs": [
    {
     "data": {
      "text/plain": [
       "(44898, 2)"
      ]
     },
     "execution_count": 12,
     "metadata": {},
     "output_type": "execute_result"
    }
   ],
   "source": [
    "data.shape"
   ]
  },
  {
   "cell_type": "code",
   "execution_count": 13,
   "id": "twenty-berkeley",
   "metadata": {},
   "outputs": [
    {
     "name": "stdout",
     "output_type": "stream",
     "text": [
      "text\n",
      "label\n"
     ]
    }
   ],
   "source": [
    "for i in data:\n",
    "    print(i)"
   ]
  },
  {
   "cell_type": "code",
   "execution_count": 14,
   "id": "animated-studio",
   "metadata": {},
   "outputs": [],
   "source": [
    "from sklearn.model_selection import train_test_split"
   ]
  },
  {
   "cell_type": "code",
   "execution_count": 20,
   "id": "knowing-cooking",
   "metadata": {},
   "outputs": [],
   "source": [
    "X_train, X_test, y_train, y_test = train_test_split(data.text, data.label, test_size = 0.3, random_state = 0)"
   ]
  },
  {
   "cell_type": "markdown",
   "id": "cooked-edmonton",
   "metadata": {},
   "source": [
    "#### Functions for creating the model "
   ]
  },
  {
   "cell_type": "code",
   "execution_count": 27,
   "id": "seventh-treat",
   "metadata": {},
   "outputs": [],
   "source": [
    "from sklearn.linear_model              import LogisticRegression\n",
    "from sklearn.pipeline                  import Pipeline\n",
    "from sklearn.feature_extraction.text   import CountVectorizer\n",
    "from sklearn.feature_extraction.text   import TfidfTransformer\n",
    "from sklearn.metrics                   import accuracy_score"
   ]
  },
  {
   "cell_type": "code",
   "execution_count": 28,
   "id": "aerial-recommendation",
   "metadata": {},
   "outputs": [],
   "source": [
    "pipe = Pipeline([\n",
    "    ('vect', CountVectorizer()),\n",
    "    ('tfidf', TfidfTransformer()),\n",
    "    ('model', LogisticRegression())\n",
    "])"
   ]
  },
  {
   "cell_type": "code",
   "execution_count": 29,
   "id": "monetary-apartment",
   "metadata": {},
   "outputs": [],
   "source": [
    "# Fitting the model\n",
    "model = pipe.fit(X_train, y_train)"
   ]
  },
  {
   "cell_type": "code",
   "execution_count": 31,
   "id": "sealed-nerve",
   "metadata": {},
   "outputs": [
    {
     "name": "stdout",
     "output_type": "stream",
     "text": [
      "Accuracy: 98.6%\n"
     ]
    }
   ],
   "source": [
    "# Accuracy\n",
    "prediction = model.predict(X_test)\n",
    "print(\"Accuracy: {}%\".format(round(accuracy_score(y_test, prediction)*100,2)))"
   ]
  },
  {
   "cell_type": "markdown",
   "id": "whole-monthly",
   "metadata": {},
   "source": [
    "#### Saving the model as **logistic_regression_model.sav**"
   ]
  },
  {
   "cell_type": "code",
   "execution_count": 30,
   "id": "killing-sacrifice",
   "metadata": {},
   "outputs": [],
   "source": [
    "import _pickle as pickle"
   ]
  },
  {
   "cell_type": "code",
   "execution_count": null,
   "id": "coupled-broadcast",
   "metadata": {},
   "outputs": [],
   "source": [
    "model_file = open('logistic_regression_model.sav', 'wb')\n",
    "pickle.dump(model, model_file)\n",
    "model_file.close()"
   ]
  }
 ],
 "metadata": {
  "kernelspec": {
   "display_name": "Python 3",
   "language": "python",
   "name": "python3"
  },
  "language_info": {
   "codemirror_mode": {
    "name": "ipython",
    "version": 3
   },
   "file_extension": ".py",
   "mimetype": "text/x-python",
   "name": "python",
   "nbconvert_exporter": "python",
   "pygments_lexer": "ipython3",
   "version": "3.7.1"
  }
 },
 "nbformat": 4,
 "nbformat_minor": 5
}
