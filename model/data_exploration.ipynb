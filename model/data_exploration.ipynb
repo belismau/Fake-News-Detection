{
 "cells": [
  {
   "cell_type": "markdown",
   "id": "soviet-atmosphere",
   "metadata": {},
   "source": [
    "# Data exploration"
   ]
  },
  {
   "cell_type": "markdown",
   "id": "incomplete-environment",
   "metadata": {},
   "source": [
    "#### This **.ipynb** file inspects the data"
   ]
  },
  {
   "cell_type": "code",
   "execution_count": 19,
   "id": "forbidden-lottery",
   "metadata": {},
   "outputs": [
    {
     "data": {
      "text/plain": [
       "(44898, 2)"
      ]
     },
     "execution_count": 19,
     "metadata": {},
     "output_type": "execute_result"
    }
   ],
   "source": [
    "data.shape"
   ]
  },
  {
   "cell_type": "code",
   "execution_count": 20,
   "id": "political-creation",
   "metadata": {},
   "outputs": [
    {
     "name": "stdout",
     "output_type": "stream",
     "text": [
      "text\n",
      "label\n"
     ]
    }
   ],
   "source": [
    "for i in data:\n",
    "    print(i)"
   ]
  },
  {
   "cell_type": "code",
   "execution_count": 21,
   "id": "nearby-terry",
   "metadata": {},
   "outputs": [],
   "source": [
    "from sklearn import preprocessing\n",
    "le = preprocessing.LabelEncoder()\n",
    "test = le.fit(data.text)"
   ]
  },
  {
   "cell_type": "code",
   "execution_count": 22,
   "id": "usual-hampshire",
   "metadata": {},
   "outputs": [],
   "source": [
    "from sklearn.model_selection import train_test_split"
   ]
  },
  {
   "cell_type": "code",
   "execution_count": 23,
   "id": "traditional-nickname",
   "metadata": {},
   "outputs": [],
   "source": [
    "X_train, X_test, y_train, y_test = train_test_split(data.text, data.label, test_size = 0.3, random_state = 0)"
   ]
  },
  {
   "cell_type": "code",
   "execution_count": null,
   "id": "direct-drama",
   "metadata": {},
   "outputs": [],
   "source": []
  },
  {
   "cell_type": "markdown",
   "id": "endless-seeking",
   "metadata": {},
   "source": [
    "#### Functions for creating the model "
   ]
  },
  {
   "cell_type": "code",
   "execution_count": 24,
   "id": "natural-vision",
   "metadata": {},
   "outputs": [],
   "source": [
    "from sklearn.linear_model     import LogisticRegression\n",
    "from sklearn.ensemble         import RandomForestClassifier\n",
    "from sklearn.ensemble         import VotingClassifier\n",
    "from sklearn.model_selection  import cross_val_score"
   ]
  },
  {
   "cell_type": "code",
   "execution_count": 25,
   "id": "oriented-northeast",
   "metadata": {},
   "outputs": [],
   "source": [
    "lgr_clf = LogisticRegression(random_state=0)\n",
    "rdf_clf = RandomForestClassifier(n_estimators=50, random_state=0)\n",
    "\n",
    "es_clf = VotingClassifier(\n",
    "             estimators = [('lgr', lgr_clf), ('rdf', rdf_clf)],\n",
    "             voting = 'soft'\n",
    "         )"
   ]
  },
  {
   "cell_type": "code",
   "execution_count": 26,
   "id": "dental-compromise",
   "metadata": {},
   "outputs": [],
   "source": [
    "from sklearn.pipeline import Pipeline\n",
    "from sklearn.feature_extraction.text import CountVectorizer\n",
    "from sklearn.feature_extraction.text import TfidfTransformer\n",
    "\n",
    "pipe = Pipeline ([\n",
    "    (\"vect\", CountVectorizer()),\n",
    "    (\"tfidf\", TfidfTransformer()),\n",
    "    (\"clf\", es_clf)\n",
    "])\n"
   ]
  },
  {
   "cell_type": "code",
   "execution_count": 27,
   "id": "editorial-democrat",
   "metadata": {},
   "outputs": [
    {
     "data": {
      "text/plain": [
       "Pipeline(steps=[('vect', CountVectorizer()), ('tfidf', TfidfTransformer()),\n",
       "                ('clf',\n",
       "                 VotingClassifier(estimators=[('lgr',\n",
       "                                               LogisticRegression(random_state=0)),\n",
       "                                              ('rdf',\n",
       "                                               RandomForestClassifier(n_estimators=50,\n",
       "                                                                      random_state=0))],\n",
       "                                  voting='soft'))])"
      ]
     },
     "execution_count": 27,
     "metadata": {},
     "output_type": "execute_result"
    }
   ],
   "source": [
    "pipe.fit(X_train, y_train)"
   ]
  },
  {
   "cell_type": "code",
   "execution_count": 28,
   "id": "biological-program",
   "metadata": {},
   "outputs": [
    {
     "name": "stdout",
     "output_type": "stream",
     "text": [
      "Accuracy: 99.3%\n"
     ]
    }
   ],
   "source": [
    "# Accuracy\n",
    "from sklearn.metrics import accuracy_score\n",
    "\n",
    "prediction = pipe.predict(X_test)\n",
    "print(\"Accuracy: {}%\".format(round(accuracy_score(y_test, prediction)*100,2)))"
   ]
  },
  {
   "cell_type": "markdown",
   "id": "considerable-intranet",
   "metadata": {},
   "source": [
    "#### Saving the model as **logistic_regression_model.sav**"
   ]
  },
  {
   "cell_type": "code",
   "execution_count": 29,
   "id": "registered-pressure",
   "metadata": {},
   "outputs": [],
   "source": [
    "import _pickle as pickle"
   ]
  },
  {
   "cell_type": "code",
   "execution_count": 30,
   "id": "cleared-uganda",
   "metadata": {},
   "outputs": [],
   "source": [
    "model_file = open('ensModel.sav', 'wb')\n",
    "pickle.dump(pipe, model_file)\n",
    "model_file.close()"
   ]
  },
  {
   "cell_type": "code",
   "execution_count": null,
   "id": "integrated-beads",
   "metadata": {},
   "outputs": [],
   "source": []
  }
 ],
 "metadata": {
  "kernelspec": {
   "display_name": "Python 3",
   "language": "python",
   "name": "python3"
  },
  "language_info": {
   "codemirror_mode": {
    "name": "ipython",
    "version": 3
   },
   "file_extension": ".py",
   "mimetype": "text/x-python",
   "name": "python",
   "nbconvert_exporter": "python",
   "pygments_lexer": "ipython3",
   "version": "3.7.1"
  }
 },
 "nbformat": 4,
 "nbformat_minor": 5
}
