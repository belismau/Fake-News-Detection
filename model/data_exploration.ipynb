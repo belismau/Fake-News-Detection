{
 "cells": [
  {
   "cell_type": "markdown",
   "id": "second-guinea",
   "metadata": {},
   "source": [
    "# Data exploration"
   ]
  },
  {
   "cell_type": "markdown",
   "id": "consistent-juvenile",
   "metadata": {},
   "source": [
    "#### This **.ipynb** file inspects the data"
   ]
  },
  {
   "cell_type": "code",
   "execution_count": 33,
   "id": "general-italic",
   "metadata": {},
   "outputs": [
    {
     "data": {
      "text/plain": [
       "(44898, 2)"
      ]
     },
     "execution_count": 33,
     "metadata": {},
     "output_type": "execute_result"
    }
   ],
   "source": [
    "data.shape"
   ]
  },
  {
   "cell_type": "code",
   "execution_count": 34,
   "id": "rising-warren",
   "metadata": {},
   "outputs": [
    {
     "name": "stdout",
     "output_type": "stream",
     "text": [
      "text\n",
      "label\n"
     ]
    }
   ],
   "source": [
    "for i in data:\n",
    "    print(i)"
   ]
  },
  {
   "cell_type": "code",
   "execution_count": 35,
   "id": "perceived-entertainment",
   "metadata": {},
   "outputs": [],
   "source": [
    "from sklearn.model_selection import train_test_split"
   ]
  },
  {
   "cell_type": "code",
   "execution_count": 36,
   "id": "bacterial-candle",
   "metadata": {},
   "outputs": [],
   "source": [
    "X_train, X_test, y_train, y_test = train_test_split(data.text, data.label, test_size = 0.3, random_state = 0)"
   ]
  },
  {
   "cell_type": "markdown",
   "id": "composite-qualification",
   "metadata": {},
   "source": [
    "#### Functions for creating the model "
   ]
  },
  {
   "cell_type": "code",
   "execution_count": 37,
   "id": "built-static",
   "metadata": {},
   "outputs": [],
   "source": [
    "from sklearn.linear_model              import LogisticRegression\n",
    "from sklearn.pipeline                  import Pipeline\n",
    "from sklearn.feature_extraction.text   import CountVectorizer\n",
    "from sklearn.feature_extraction.text   import TfidfTransformer\n",
    "from sklearn.metrics                   import accuracy_score"
   ]
  },
  {
   "cell_type": "code",
   "execution_count": 38,
   "id": "stunning-comparative",
   "metadata": {},
   "outputs": [],
   "source": [
    "pipe = Pipeline([\n",
    "    ('vect', CountVectorizer()),\n",
    "    ('tfidf', TfidfTransformer()),\n",
    "    ('model', LogisticRegression())\n",
    "])"
   ]
  },
  {
   "cell_type": "code",
   "execution_count": 39,
   "id": "computational-balloon",
   "metadata": {},
   "outputs": [],
   "source": [
    "# Fitting the model\n",
    "model = pipe.fit(X_train, y_train)"
   ]
  },
  {
   "cell_type": "code",
   "execution_count": 40,
   "id": "mexican-librarian",
   "metadata": {},
   "outputs": [
    {
     "name": "stdout",
     "output_type": "stream",
     "text": [
      "Accuracy: 98.6%\n"
     ]
    }
   ],
   "source": [
    "# Accuracy\n",
    "prediction = model.predict(X_test)\n",
    "print(\"Accuracy: {}%\".format(round(accuracy_score(y_test, prediction)*100,2)))"
   ]
  },
  {
   "cell_type": "markdown",
   "id": "photographic-poker",
   "metadata": {},
   "source": [
    "#### Saving the model as **logistic_regression_model.sav**"
   ]
  },
  {
   "cell_type": "code",
   "execution_count": 41,
   "id": "described-lincoln",
   "metadata": {},
   "outputs": [],
   "source": [
    "import _pickle as pickle"
   ]
  },
  {
   "cell_type": "code",
   "execution_count": 42,
   "id": "prescribed-majority",
   "metadata": {},
   "outputs": [],
   "source": [
    "model_file = open('logistic_regression_model.sav', 'wb')\n",
    "pickle.dump(model, model_file)\n",
    "model_file.close()"
   ]
  },
  {
   "cell_type": "code",
   "execution_count": null,
   "id": "complex-currency",
   "metadata": {},
   "outputs": [],
   "source": []
  }
 ],
 "metadata": {
  "kernelspec": {
   "display_name": "Python 3",
   "language": "python",
   "name": "python3"
  },
  "language_info": {
   "codemirror_mode": {
    "name": "ipython",
    "version": 3
   },
   "file_extension": ".py",
   "mimetype": "text/x-python",
   "name": "python",
   "nbconvert_exporter": "python",
   "pygments_lexer": "ipython3",
   "version": "3.7.1"
  }
 },
 "nbformat": 4,
 "nbformat_minor": 5
}
