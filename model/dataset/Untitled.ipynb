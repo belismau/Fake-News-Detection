{
 "cells": [
  {
   "cell_type": "code",
   "execution_count": 68,
   "id": "characteristic-rates",
   "metadata": {},
   "outputs": [
    {
     "data": {
      "text/plain": [
       "'The setting for this episode is Yale University, a campus that s been embroiled in a number off social justice controversies over the past couple of years. A major donor is visiting the campus and two administrators are taking him around campus. Every time they turn around the donor seems to be offending someone or violating someone s rights. The donor offers to endow a nuclear plant management. One of the administrators quickly informs him that they  can t do nuclear  and that he d  be creating a space for violence to happen . The other administrator informs him that their  students are highly entitled wusses . The donor asks if it s  still a coven of capitalism where evil money can acquire a patina of virtue? The writers for FOX s The Simpsons make a point of letting the viewers know that one of the most idiotic lines uttered in the segment,  you d be creating a space for violence to happen  is an actual quote, as they flash,  Actual quote from Yale student  on the screen. In the end, the joke is on the students, as the major donor who is also childless, pulls his contribution to the university and heads literally explode over Homer s offensive costume.Enjoy:'"
      ]
     },
     "execution_count": 68,
     "metadata": {},
     "output_type": "execute_result"
    }
   ],
   "source": [
    "import pandas as pd\n",
    "\n",
    "news = pd.read_csv('Fake.csv')\n",
    "\n",
    "news = news.text\n",
    "\n",
    "news[11112]"
   ]
  },
  {
   "cell_type": "code",
   "execution_count": null,
   "id": "brazilian-specification",
   "metadata": {},
   "outputs": [],
   "source": []
  }
 ],
 "metadata": {
  "kernelspec": {
   "display_name": "Python 3",
   "language": "python",
   "name": "python3"
  },
  "language_info": {
   "codemirror_mode": {
    "name": "ipython",
    "version": 3
   },
   "file_extension": ".py",
   "mimetype": "text/x-python",
   "name": "python",
   "nbconvert_exporter": "python",
   "pygments_lexer": "ipython3",
   "version": "3.7.1"
  }
 },
 "nbformat": 4,
 "nbformat_minor": 5
}
